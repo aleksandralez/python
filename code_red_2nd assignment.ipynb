{
 "cells": [
  {
   "cell_type": "markdown",
   "id": "e75a7065",
   "metadata": {},
   "source": [
    "##### TASK 1"
   ]
  },
  {
   "cell_type": "markdown",
   "id": "214d6d00",
   "metadata": {},
   "source": [
    "Write a program that as input accepts a string typed on keyboard and as output it will print this string reversed\n",
    "Example:\n",
    "\n",
    "input: Alice in wonderland\n",
    "\n",
    "output: dnalrednow ni ecilA"
   ]
  },
  {
   "cell_type": "code",
   "execution_count": 1,
   "id": "f8fbacff",
   "metadata": {
    "collapsed": true
   },
   "outputs": [
    {
     "name": "stdout",
     "output_type": "stream",
     "text": [
      "Requirement already satisfied: pytest in c:\\users\\lezon\\anaconda3\\lib\\site-packages (8.0.2)\n",
      "Requirement already satisfied: iniconfig in c:\\users\\lezon\\anaconda3\\lib\\site-packages (from pytest) (1.1.1)\n",
      "Requirement already satisfied: packaging in c:\\users\\lezon\\anaconda3\\lib\\site-packages (from pytest) (23.1)\n",
      "Requirement already satisfied: pluggy<2.0,>=1.3.0 in c:\\users\\lezon\\anaconda3\\lib\\site-packages (from pytest) (1.4.0)\n",
      "Requirement already satisfied: colorama in c:\\users\\lezon\\anaconda3\\lib\\site-packages (from pytest) (0.4.6)\n"
     ]
    }
   ],
   "source": [
    "!pip install pytest"
   ]
  },
  {
   "cell_type": "code",
   "execution_count": 2,
   "id": "76457155",
   "metadata": {},
   "outputs": [
    {
     "name": "stdout",
     "output_type": "stream",
     "text": [
      "Write a text here: Mysle wiec jestem\n"
     ]
    }
   ],
   "source": [
    "#INPUT\n",
    "user_input = str(input(\"Write a text here: \"))\n"
   ]
  },
  {
   "cell_type": "code",
   "execution_count": 3,
   "id": "bdaa1a8c",
   "metadata": {},
   "outputs": [
    {
     "data": {
      "text/plain": [
       "'metsej ceiw elsyM'"
      ]
     },
     "execution_count": 3,
     "metadata": {},
     "output_type": "execute_result"
    }
   ],
   "source": [
    "#FUNCTION TO RESERVE THE USER INPUT\n",
    "def reversed_string(user_input):\n",
    "    return user_input[::-1]\n",
    "\n",
    "reversed_string(user_input)"
   ]
  },
  {
   "cell_type": "code",
   "execution_count": 4,
   "id": "0110660e",
   "metadata": {},
   "outputs": [
    {
     "name": "stdout",
     "output_type": "stream",
     "text": [
      "test_passed\n"
     ]
    }
   ],
   "source": [
    "# TEST FUNCTION FOR PYTEST\n",
    "def test_reversed_string():\n",
    "    assert reversed_string(\"ola\") == \"alo\"\n",
    "    print(\"test_passed\")\n",
    "    \n",
    "test_reversed_string()"
   ]
  },
  {
   "cell_type": "code",
   "execution_count": 5,
   "id": "ebabc80c",
   "metadata": {},
   "outputs": [],
   "source": [
    "#TEST SCRIPT FOR PYTEST\n",
    "file_test = \"\"\"\n",
    "def reversed_string(user_input):\n",
    "    return user_input[::-1]\n",
    "\n",
    "def test_reversed_string():\n",
    "    assert reversed_string(\"ola\") == \"alo\"\n",
    "\"\"\"\n",
    "\n",
    "with open(\"test_reverse.py\", \"w\") as file:\n",
    "    file.write(file_test)"
   ]
  },
  {
   "cell_type": "code",
   "execution_count": 6,
   "id": "3c5d53aa",
   "metadata": {},
   "outputs": [
    {
     "name": "stdout",
     "output_type": "stream",
     "text": [
      "\u001b[1m============================= test session starts =============================\u001b[0m\n",
      "platform win32 -- Python 3.11.5, pytest-8.0.2, pluggy-1.4.0\n",
      "rootdir: C:\\Users\\lezon\n",
      "plugins: anyio-3.5.0\n",
      "collected 1 item\n",
      "\n",
      "test_reverse.py \u001b[32m.\u001b[0m\u001b[32m                                                        [100%]\u001b[0m\n",
      "\n",
      "\u001b[32m============================== \u001b[32m\u001b[1m1 passed\u001b[0m\u001b[32m in 0.05s\u001b[0m\u001b[32m ==============================\u001b[0m\n"
     ]
    }
   ],
   "source": [
    "!pytest test_reverse.py"
   ]
  },
  {
   "cell_type": "markdown",
   "id": "9c5ab957",
   "metadata": {},
   "source": [
    "##### TASK 2"
   ]
  },
  {
   "cell_type": "markdown",
   "id": "c678850d",
   "metadata": {},
   "source": [
    "2. Write a word counter: as input program accepts a txt file, then reads the content from the file and as output prints the number of words in that txt file.\n",
    "\n",
    "You need to create this txt file first and fill it with some sentences.\n",
    "\n",
    " \n",
    "\n",
    "Example:\n",
    "\n",
    "input: Alice in wonderland sleeps\n",
    "\n",
    " \n",
    "\n",
    "output: 4"
   ]
  },
  {
   "cell_type": "code",
   "execution_count": 9,
   "id": "c72af4ca",
   "metadata": {},
   "outputs": [
    {
     "data": {
      "text/plain": [
       "17"
      ]
     },
     "execution_count": 9,
     "metadata": {},
     "output_type": "execute_result"
    }
   ],
   "source": [
    "#FUNCTION TO OPEN FILE AND COUNT WORDS\n",
    "file_path = \"c:\\\\Users\\\\lezon\\\\coconut_copy.txt\"\n",
    "def word_counter(file_path):\n",
    "        with open(file_path, 'r') as file:\n",
    "            file_text = file.read()\n",
    "            words = file_text.split()\n",
    "            return len(words)\n",
    "word_counter(file_path)\n"
   ]
  },
  {
   "cell_type": "code",
   "execution_count": 10,
   "id": "b0670fde",
   "metadata": {},
   "outputs": [
    {
     "name": "stdout",
     "output_type": "stream",
     "text": [
      "test_passed\n"
     ]
    }
   ],
   "source": [
    "# TEST FUNCTION FOR PYTEST\n",
    "def test_word_counter():\n",
    "    assert word_counter(file_path) == 17\n",
    "    print(\"test_passed\")\n",
    "    \n",
    "test_word_counter()"
   ]
  },
  {
   "cell_type": "code",
   "execution_count": 11,
   "id": "39a6de4c",
   "metadata": {},
   "outputs": [],
   "source": [
    "#TEST SCRIPT FOR PYTEST\n",
    "file_test = \"\"\"\n",
    "\n",
    "file_path = \"C:\\\\Users\\\\lezon\\\\coconut_copy.txt\"\n",
    "def word_counter(file_path):\n",
    "        with open(file_path, 'r') as file:\n",
    "            file_text = file.read()\n",
    "            words = file_text.split()\n",
    "            return len(words)\n",
    "\n",
    "def test_word_counter():\n",
    "    assert word_counter(file_path) == 17\n",
    "\"\"\"\n",
    "\n",
    "with open(\"test_words.py\", \"w\") as file:\n",
    "    file.write(file_test)"
   ]
  },
  {
   "cell_type": "code",
   "execution_count": 13,
   "id": "c5dc735c",
   "metadata": {},
   "outputs": [
    {
     "name": "stdout",
     "output_type": "stream",
     "text": [
      "\u001b[1m============================= test session starts =============================\u001b[0m\n",
      "platform win32 -- Python 3.11.5, pytest-8.0.2, pluggy-1.4.0\n",
      "rootdir: C:\\Users\\lezon\n",
      "plugins: anyio-3.5.0\n",
      "collected 1 item\n",
      "\n",
      "test_words.py \u001b[32m.\u001b[0m\u001b[32m                                                          [100%]\u001b[0m\n",
      "\n",
      "\u001b[32m============================== \u001b[32m\u001b[1m1 passed\u001b[0m\u001b[32m in 0.05s\u001b[0m\u001b[32m ==============================\u001b[0m\n"
     ]
    }
   ],
   "source": [
    "!pytest test_words.py"
   ]
  },
  {
   "cell_type": "markdown",
   "id": "d4920ffa",
   "metadata": {},
   "source": [
    "##### TASK 3"
   ]
  },
  {
   "cell_type": "markdown",
   "id": "f5524873",
   "metadata": {},
   "source": [
    "3. Write a function to check duplicate letters in words. It must accept strings ie. a sentence.\n",
    "\n",
    "The function should return True if any of the words has duplicate letters else return False.\n",
    "\n",
    " \n",
    "\n",
    "Example 1:\n",
    "\n",
    "input: A cucumber is green\n",
    "\n",
    " \n",
    "\n",
    "output: True\n",
    "\n",
    " \n",
    "\n",
    "Example 2:\n",
    "\n",
    "input: This is it\n",
    "\n",
    " \n",
    "\n",
    "output: False\n",
    "\n",
    " \n",
    "\n",
    "Example 3:\n",
    "\n",
    "input: banana\n",
    "\n",
    " \n",
    "\n",
    "output: True"
   ]
  },
  {
   "cell_type": "code",
   "execution_count": 17,
   "id": "bd4246c8",
   "metadata": {},
   "outputs": [
    {
     "name": "stdout",
     "output_type": "stream",
     "text": [
      "Write the sentence: This is it\n"
     ]
    }
   ],
   "source": [
    "input_user3 = str(input(\"Write the sentence: \"))"
   ]
  },
  {
   "cell_type": "code",
   "execution_count": 18,
   "id": "ef79ae3b",
   "metadata": {},
   "outputs": [
    {
     "data": {
      "text/plain": [
       "False"
      ]
     },
     "execution_count": 18,
     "metadata": {},
     "output_type": "execute_result"
    }
   ],
   "source": [
    "#FUNCTION TO CHECK DUPLICATES\n",
    "def check_duplicates(input_user3):\n",
    "    words = input_user3.split()\n",
    "    \n",
    "    for word in words:\n",
    "        letters = set()\n",
    "        for letter in word:\n",
    "            if letter in letters:\n",
    "                return True\n",
    "            else:\n",
    "                letters.add(letter)\n",
    "    return False\n",
    "check_duplicates(input_user3)\n",
    "\n"
   ]
  },
  {
   "cell_type": "code",
   "execution_count": 19,
   "id": "7bd37c89",
   "metadata": {},
   "outputs": [
    {
     "name": "stdout",
     "output_type": "stream",
     "text": [
      "test_passed\n"
     ]
    }
   ],
   "source": [
    "# TEST FUNCTION FOR PYTEST\n",
    "def test_duplicates():\n",
    "    assert check_duplicates(\"banana\") == True\n",
    "    print(\"test_passed\")\n",
    "    \n",
    "test_reversed_string()"
   ]
  },
  {
   "cell_type": "code",
   "execution_count": 20,
   "id": "18bf34b7",
   "metadata": {},
   "outputs": [],
   "source": [
    "#TEST SCRIPT FOR PYTEST\n",
    "file_test = \"\"\"\n",
    "def check_duplicates(input_user3):\n",
    "    words = input_user3.split()\n",
    "    \n",
    "    for word in words:\n",
    "        letters = set()\n",
    "        for letter in word:\n",
    "            if letter in letters:\n",
    "                return True\n",
    "            else:\n",
    "                letters.add(letter)\n",
    "    return False\n",
    "\n",
    "def test_duplicates():\n",
    "    assert check_duplicates(\"banana\") == True\n",
    "\"\"\"\n",
    "\n",
    "with open(\"test_duplicates.py\", \"w\") as file:\n",
    "    file.write(file_test)"
   ]
  },
  {
   "cell_type": "code",
   "execution_count": 21,
   "id": "a549fb89",
   "metadata": {},
   "outputs": [
    {
     "name": "stdout",
     "output_type": "stream",
     "text": [
      "\u001b[1m============================= test session starts =============================\u001b[0m\n",
      "platform win32 -- Python 3.11.5, pytest-8.0.2, pluggy-1.4.0\n",
      "rootdir: C:\\Users\\lezon\n",
      "plugins: anyio-3.5.0\n",
      "collected 1 item\n",
      "\n",
      "test_duplicates.py \u001b[32m.\u001b[0m\u001b[32m                                                     [100%]\u001b[0m\n",
      "\n",
      "\u001b[32m============================== \u001b[32m\u001b[1m1 passed\u001b[0m\u001b[32m in 0.05s\u001b[0m\u001b[32m ==============================\u001b[0m\n"
     ]
    }
   ],
   "source": [
    "!pytest test_duplicates.py"
   ]
  },
  {
   "cell_type": "markdown",
   "id": "c5a40f1e",
   "metadata": {},
   "source": [
    "##### TASK 4"
   ]
  },
  {
   "cell_type": "markdown",
   "id": "12085226",
   "metadata": {},
   "source": [
    "4. Write a function that counts the number of vowels in a given word.\n",
    "\n",
    " \n",
    "\n",
    "Example 1:\n",
    "\n",
    "input: banana\n",
    "\n",
    " \n",
    "\n",
    "output: 3\n",
    "\n",
    " \n",
    "\n",
    "Example 2:\n",
    "\n",
    "input: vowels\n",
    "\n",
    " \n",
    "\n",
    "output: 2"
   ]
  },
  {
   "cell_type": "code",
   "execution_count": 22,
   "id": "f420b872",
   "metadata": {},
   "outputs": [
    {
     "name": "stdout",
     "output_type": "stream",
     "text": [
      "Write a word: banana\n"
     ]
    }
   ],
   "source": [
    "user_input4 = str(input(\"Write a word: \"))"
   ]
  },
  {
   "cell_type": "code",
   "execution_count": 23,
   "id": "17e955a8",
   "metadata": {},
   "outputs": [
    {
     "data": {
      "text/plain": [
       "3"
      ]
     },
     "execution_count": 23,
     "metadata": {},
     "output_type": "execute_result"
    }
   ],
   "source": [
    "#FUNCTION TO COUNT VOWELS\n",
    "def count_vowels(user_input4):\n",
    "    vowels = 'aeiouAEIOU'\n",
    "    return sum(user_input4.count(vowel) for vowel in vowels)\n",
    "\n",
    "count_vowels(user_input4)"
   ]
  },
  {
   "cell_type": "code",
   "execution_count": 24,
   "id": "fce3b239",
   "metadata": {},
   "outputs": [
    {
     "name": "stdout",
     "output_type": "stream",
     "text": [
      "test_passed\n"
     ]
    }
   ],
   "source": [
    "# TEST FUNCTION FOR PYTEST\n",
    "def test_vowels():\n",
    "    assert count_vowels(\"banana\") == 3\n",
    "    print(\"test_passed\")\n",
    "    \n",
    "test_reversed_string()"
   ]
  },
  {
   "cell_type": "code",
   "execution_count": 25,
   "id": "bc1e56e2",
   "metadata": {},
   "outputs": [],
   "source": [
    "#TEST SCRIPT FOR PYTEST\n",
    "file_test = \"\"\"\n",
    "def count_vowels(user_input4):\n",
    "    vowels = 'aeiouAEIOU'\n",
    "    return sum(user_input4.count(vowel) for vowel in vowels)\n",
    "\n",
    "def test_vowels():\n",
    "    assert count_vowels(\"banana\") == 3\n",
    "\"\"\"\n",
    "\n",
    "with open(\"test_vowels.py\", \"w\") as file:\n",
    "    file.write(file_test)"
   ]
  },
  {
   "cell_type": "code",
   "execution_count": 26,
   "id": "13aff228",
   "metadata": {},
   "outputs": [
    {
     "name": "stdout",
     "output_type": "stream",
     "text": [
      "\u001b[1m============================= test session starts =============================\u001b[0m\n",
      "platform win32 -- Python 3.11.5, pytest-8.0.2, pluggy-1.4.0\n",
      "rootdir: C:\\Users\\lezon\n",
      "plugins: anyio-3.5.0\n",
      "collected 1 item\n",
      "\n",
      "test_vowels.py \u001b[32m.\u001b[0m\u001b[32m                                                         [100%]\u001b[0m\n",
      "\n",
      "\u001b[32m============================== \u001b[32m\u001b[1m1 passed\u001b[0m\u001b[32m in 0.05s\u001b[0m\u001b[32m ==============================\u001b[0m\n"
     ]
    }
   ],
   "source": [
    "!pytest test_vowels.py"
   ]
  },
  {
   "cell_type": "markdown",
   "id": "cdf41f82",
   "metadata": {},
   "source": [
    "##### TASK 5"
   ]
  },
  {
   "cell_type": "markdown",
   "id": "6cb71327",
   "metadata": {},
   "source": [
    "5. Rewrite the function from task 4 and now it should return a dictionary with the vowel as key and the number of the vowel in a word as value.\n",
    "\n",
    " \n",
    "\n",
    "Example 1:\n",
    "\n",
    "input: banana\n",
    "\n",
    " \n",
    "\n",
    "output: {'a': 3}\n",
    "\n",
    " \n",
    "\n",
    "Example 2:\n",
    "\n",
    "input: vowels\n",
    "\n",
    " \n",
    "\n",
    "output: {'o': 1, 'e': 1}"
   ]
  },
  {
   "cell_type": "code",
   "execution_count": 27,
   "id": "69bb39d4",
   "metadata": {},
   "outputs": [
    {
     "name": "stdout",
     "output_type": "stream",
     "text": [
      "Write a word: vowels\n"
     ]
    }
   ],
   "source": [
    "user_input5 = str(input(\"Write a word: \"))"
   ]
  },
  {
   "cell_type": "code",
   "execution_count": 28,
   "id": "740aa641",
   "metadata": {},
   "outputs": [
    {
     "data": {
      "text/plain": [
       "{'o': 1, 'e': 1}"
      ]
     },
     "execution_count": 28,
     "metadata": {},
     "output_type": "execute_result"
    }
   ],
   "source": [
    "#FUNCTION TO COUNT VOWELS\n",
    "def count_vowels(user_input5):\n",
    "    vowels = 'aeiouAEIOU'\n",
    "    vowel_counts = {}\n",
    "\n",
    "    for char in user_input5:\n",
    "        if char in vowels:\n",
    "            if char in vowel_counts:\n",
    "                vowel_counts[char] += 1\n",
    "            else:\n",
    "                vowel_counts[char] = 1\n",
    "\n",
    "    return vowel_counts\n",
    "count_vowels(user_input5)"
   ]
  },
  {
   "cell_type": "code",
   "execution_count": 29,
   "id": "4b163f0c",
   "metadata": {},
   "outputs": [
    {
     "name": "stdout",
     "output_type": "stream",
     "text": [
      "test_passed\n"
     ]
    }
   ],
   "source": [
    "# TEST FUNCTION FOR PYTEST\n",
    "def test_count_vowels():\n",
    "    assert count_vowels(\"banana\") ==  {'a': 3}\n",
    "    print(\"test_passed\")\n",
    "    \n",
    "test_reversed_string()"
   ]
  },
  {
   "cell_type": "code",
   "execution_count": 33,
   "id": "020e99dc",
   "metadata": {},
   "outputs": [],
   "source": [
    "#TEST SCRIPT FOR PYTEST\n",
    "file_test = \"\"\"\n",
    "def count_vowels(user_input5):\n",
    "    vowels = 'aeiouAEIOU'\n",
    "    vowel_counts = {}\n",
    "\n",
    "    for char in user_input5:\n",
    "        if char in vowels:\n",
    "            if char in vowel_counts:\n",
    "                vowel_counts[char] += 1\n",
    "            else:\n",
    "                vowel_counts[char] = 1\n",
    "\n",
    "    return vowel_counts\n",
    "def test_count_vowels():\n",
    "    assert count_vowels(\"banana\") ==  {'a': 3}\n",
    "\"\"\"\n",
    "\n",
    "with open(\"test_count_vowels.py\", \"w\") as file:\n",
    "    file.write(file_test)"
   ]
  },
  {
   "cell_type": "code",
   "execution_count": 34,
   "id": "d9e86e16",
   "metadata": {},
   "outputs": [
    {
     "name": "stdout",
     "output_type": "stream",
     "text": [
      "\u001b[1m============================= test session starts =============================\u001b[0m\n",
      "platform win32 -- Python 3.11.5, pytest-8.0.2, pluggy-1.4.0\n",
      "rootdir: C:\\Users\\lezon\n",
      "plugins: anyio-3.5.0\n",
      "collected 1 item\n",
      "\n",
      "test_count_vowels.py \u001b[32m.\u001b[0m\u001b[32m                                                   [100%]\u001b[0m\n",
      "\n",
      "\u001b[32m============================== \u001b[32m\u001b[1m1 passed\u001b[0m\u001b[32m in 0.04s\u001b[0m\u001b[32m ==============================\u001b[0m\n"
     ]
    }
   ],
   "source": [
    "!pytest test_count_vowels.py"
   ]
  },
  {
   "cell_type": "markdown",
   "id": "9158cfff",
   "metadata": {},
   "source": [
    "##### TASK 6"
   ]
  },
  {
   "cell_type": "markdown",
   "id": "6482ba94",
   "metadata": {},
   "source": [
    "6. Modify the function created in task 5, but now as input use a csv file with words in it (ie. inputs.csv)\n",
    "\n",
    "Expected result: the function should create a txt file with dictionary which contains the input word as key, dictionary with vowels, and the number of the vowels as value. It should look like this: {'banana' : {'a': 3}}\n",
    "\n",
    " \n",
    "\n",
    "Example:\n",
    "\n",
    "input: file inputs.csv and the content of it:\n",
    "\n",
    "banana,vowels\n",
    "\n",
    " \n",
    "\n",
    "output: file results.txt and the content of it:\n",
    "\n",
    "{'banana' : {'a': 3}}, {'vowels' : {'o': 1, 'e': 1}}"
   ]
  },
  {
   "cell_type": "code",
   "execution_count": 35,
   "id": "3187676d",
   "metadata": {},
   "outputs": [],
   "source": [
    "#CREATE CSV \n",
    "import csv\n",
    "data = 'banana,vowels'\n",
    "\n",
    "# Writing to the CSV file\n",
    "with open('inputs.csv', 'w') as csv_file:\n",
    "    csv_file.write(data)\n"
   ]
  },
  {
   "cell_type": "code",
   "execution_count": 36,
   "id": "355b83a7",
   "metadata": {},
   "outputs": [],
   "source": [
    "#FUNCTION TO COUNT VOWELS\n",
    "def count_vowels(words):\n",
    "    vowels = 'aeiouAEIOU'\n",
    "    vowel_counts = {}\n",
    "\n",
    "    for char in words:\n",
    "        if char in vowels:\n",
    "            if char in vowel_counts:\n",
    "                vowel_counts[char] += 1\n",
    "            else:\n",
    "                vowel_counts[char] = 1\n",
    "\n",
    "    return vowel_counts\n",
    "\n",
    "# WORDS FROM CSV FILE\n",
    "with open('inputs.csv', mode='r') as csv_file:\n",
    "    csv_reader = csv.reader(csv_file)\n",
    "    words = next(csv_reader)\n",
    "\n",
    "#TXT FILE\n",
    "with open('results1.txt', 'w') as txt_file:\n",
    "    for word in words:\n",
    "        counts = count_vowels(word)\n",
    "        txt_file.write(f\"'{word}' : {counts}\") "
   ]
  },
  {
   "cell_type": "code",
   "execution_count": 37,
   "id": "213cb355",
   "metadata": {},
   "outputs": [
    {
     "name": "stdout",
     "output_type": "stream",
     "text": [
      "test_passed\n"
     ]
    }
   ],
   "source": [
    "#TEST FUNCTION FOR PYTEST\n",
    "def test_count_vowels():\n",
    "    assert count_vowels(\"banana\") ==  {'a': 3}\n",
    "    print(\"test_passed\")\n",
    "    \n",
    "test_reversed_string()"
   ]
  },
  {
   "cell_type": "code",
   "execution_count": 38,
   "id": "fdfcd454",
   "metadata": {},
   "outputs": [],
   "source": [
    "#TEST SCRIPT FOR PYTEST\n",
    "file_test = \"\"\"\n",
    "import csv\n",
    "data = 'banana,vowels'\n",
    "\n",
    "# Writing to the CSV file\n",
    "with open('inputs.csv', 'w') as csv_file:\n",
    "    csv_file.write(data)\n",
    "\n",
    "def count_vowels(words):\n",
    "    vowels = 'aeiouAEIOU'\n",
    "    vowel_counts = {}\n",
    "\n",
    "    for char in words:\n",
    "        if char in vowels:\n",
    "            if char in vowel_counts:\n",
    "                vowel_counts[char] += 1\n",
    "            else:\n",
    "                vowel_counts[char] = 1\n",
    "\n",
    "    return vowel_counts\n",
    "\n",
    "# WORDS FROM CSV FILE\n",
    "with open('inputs.csv', mode='r') as csv_file:\n",
    "    csv_reader = csv.reader(csv_file)\n",
    "    words = next(csv_reader)\n",
    "\n",
    "#TXT FILE\n",
    "with open('results1.txt', 'w') as txt_file:\n",
    "    for word in words:\n",
    "        counts = count_vowels(word)\n",
    "        txt_file.write(f\"'{word}' : {counts}\") \n",
    "        \n",
    "        \n",
    "def test_count_vowels():\n",
    "    assert count_vowels(\"banana\") ==   {'a': 3}\n",
    "\n",
    "\"\"\"\n",
    "\n",
    "with open(\"test_count_vowels_task6.py\", \"w\") as file:\n",
    "    file.write(file_test)"
   ]
  },
  {
   "cell_type": "code",
   "execution_count": 39,
   "id": "7220cc06",
   "metadata": {},
   "outputs": [
    {
     "name": "stdout",
     "output_type": "stream",
     "text": [
      "\u001b[1m============================= test session starts =============================\u001b[0m\n",
      "platform win32 -- Python 3.11.5, pytest-8.0.2, pluggy-1.4.0\n",
      "rootdir: C:\\Users\\lezon\n",
      "plugins: anyio-3.5.0\n",
      "collected 1 item\n",
      "\n",
      "test_count_vowels_task6.py \u001b[32m.\u001b[0m\u001b[32m                                             [100%]\u001b[0m\n",
      "\n",
      "\u001b[32m============================== \u001b[32m\u001b[1m1 passed\u001b[0m\u001b[32m in 0.05s\u001b[0m\u001b[32m ==============================\u001b[0m\n"
     ]
    }
   ],
   "source": [
    "!pytest test_count_vowels_task6.py"
   ]
  },
  {
   "cell_type": "markdown",
   "id": "7e0c6eb9",
   "metadata": {},
   "source": [
    "##### TASK 7"
   ]
  },
  {
   "cell_type": "markdown",
   "id": "9cd7b812",
   "metadata": {},
   "source": [
    "7. Write the Morse code translator. Write a function that takes as input a string (one word or a sentence) and returns encoded string in the Morse code.\n",
    "\n",
    " \n",
    "\n",
    "input: SOS\n",
    "\n",
    " \n",
    "\n",
    "output: ... --- ..."
   ]
  },
  {
   "cell_type": "code",
   "execution_count": 40,
   "id": "348c1a1c",
   "metadata": {},
   "outputs": [],
   "source": [
    "# MORSE CODE \n",
    "# http://www.moratech.com/aviation/morsecode.html"
   ]
  },
  {
   "cell_type": "code",
   "execution_count": 42,
   "id": "1533aa6c",
   "metadata": {},
   "outputs": [],
   "source": [
    "user_input7 = \"SOS\""
   ]
  },
  {
   "cell_type": "code",
   "execution_count": 43,
   "id": "5a05ec24",
   "metadata": {},
   "outputs": [
    {
     "data": {
      "text/plain": [
       "'... --- ...'"
      ]
     },
     "execution_count": 43,
     "metadata": {},
     "output_type": "execute_result"
    }
   ],
   "source": [
    "def morse(user_input7):\n",
    "    morse_dictionary = {\n",
    "        'A': '.-', 'B': '-...', 'C': '-.-.', 'D': '-..', 'E': '.', 'F': '..-.', \n",
    "        'G': '--.', 'H': '....', 'I': '..', 'J': '.---', 'K': '-.-', 'L': '.-..', \n",
    "        'M': '--', 'N': '-.', 'O': '---', 'P': '.--.', 'Q': '--.-', 'R': '.-.', \n",
    "        'S': '...', 'T': '-', 'U': '..-', 'V': '...-', 'W': '.--', 'X': '-..-', \n",
    "        'Y': '-.--', 'Z': '--..', '1': '.----', '2': '..---', '3': '...--', \n",
    "        '4': '....-', '5': '.....', '6': '-....', '7': '--...', '8': '---..', \n",
    "        '9': '----.', '0': '-----', ', ': '--..--', '.': '.-.-.-', '?': '..--..', \n",
    "        '/': '-..-.', '-': '-....-', '(': '-.--.', ')': '-.--.-', ' ': ' '\n",
    "    }\n",
    "    \n",
    "    user_input_updated = user_input.upper()\n",
    "    translation = ' '.join(morse_dictionary[char] for char in user_input if char in morse_dictionary)\n",
    "    \n",
    "    return translation\n",
    "morse(user_input7)"
   ]
  },
  {
   "cell_type": "code",
   "execution_count": 44,
   "id": "148d7b48",
   "metadata": {},
   "outputs": [
    {
     "name": "stdout",
     "output_type": "stream",
     "text": [
      "test_passed\n"
     ]
    }
   ],
   "source": [
    "# TEST FUNCTION FOR PYTEST\n",
    "def test_morse():\n",
    "    assert morse(\"SOS\") ==  '... --- ...'\n",
    "    print(\"test_passed\")\n",
    "    \n",
    "test_reversed_string()"
   ]
  },
  {
   "cell_type": "code",
   "execution_count": 45,
   "id": "6d5a42c0",
   "metadata": {},
   "outputs": [],
   "source": [
    "#TEST SCRIPT FOR PYTEST\n",
    "file_test = \"\"\"\n",
    "user_input = \"SOS\"\n",
    "def morse(user_input):\n",
    "    morse_dictionary = {\n",
    "        'A': '.-', 'B': '-...', 'C': '-.-.', 'D': '-..', 'E': '.', 'F': '..-.', \n",
    "        'G': '--.', 'H': '....', 'I': '..', 'J': '.---', 'K': '-.-', 'L': '.-..', \n",
    "        'M': '--', 'N': '-.', 'O': '---', 'P': '.--.', 'Q': '--.-', 'R': '.-.', \n",
    "        'S': '...', 'T': '-', 'U': '..-', 'V': '...-', 'W': '.--', 'X': '-..-', \n",
    "        'Y': '-.--', 'Z': '--..', '1': '.----', '2': '..---', '3': '...--', \n",
    "        '4': '....-', '5': '.....', '6': '-....', '7': '--...', '8': '---..', \n",
    "        '9': '----.', '0': '-----', ', ': '--..--', '.': '.-.-.-', '?': '..--..', \n",
    "        '/': '-..-.', '-': '-....-', '(': '-.--.', ')': '-.--.-', ' ': ' '\n",
    "    }\n",
    "    \n",
    "    user_input_updated = user_input.upper()\n",
    "    translation = ' '.join(morse_dictionary[char] for char in user_input if char in morse_dictionary)\n",
    "    \n",
    "    return translation\n",
    "\n",
    "morse(user_input)\n",
    "        \n",
    "        \n",
    "def test_morse():\n",
    "    assert morse(\"SOS\") ==  '... --- ...'\n",
    "\n",
    "\n",
    "\"\"\"\n",
    "\n",
    "with open(\"test_morse.py\", \"w\") as file:\n",
    "    file.write(file_test)"
   ]
  },
  {
   "cell_type": "code",
   "execution_count": 46,
   "id": "1c696b48",
   "metadata": {},
   "outputs": [
    {
     "name": "stdout",
     "output_type": "stream",
     "text": [
      "\u001b[1m============================= test session starts =============================\u001b[0m\n",
      "platform win32 -- Python 3.11.5, pytest-8.0.2, pluggy-1.4.0\n",
      "rootdir: C:\\Users\\lezon\n",
      "plugins: anyio-3.5.0\n",
      "collected 1 item\n",
      "\n",
      "test_morse.py \u001b[32m.\u001b[0m\u001b[32m                                                          [100%]\u001b[0m\n",
      "\n",
      "\u001b[32m============================== \u001b[32m\u001b[1m1 passed\u001b[0m\u001b[32m in 0.05s\u001b[0m\u001b[32m ==============================\u001b[0m\n"
     ]
    }
   ],
   "source": [
    "!pytest test_morse.py"
   ]
  },
  {
   "cell_type": "code",
   "execution_count": null,
   "id": "9e90149e",
   "metadata": {},
   "outputs": [],
   "source": []
  }
 ],
 "metadata": {
  "kernelspec": {
   "display_name": "Python 3 (ipykernel)",
   "language": "python",
   "name": "python3"
  },
  "language_info": {
   "codemirror_mode": {
    "name": "ipython",
    "version": 3
   },
   "file_extension": ".py",
   "mimetype": "text/x-python",
   "name": "python",
   "nbconvert_exporter": "python",
   "pygments_lexer": "ipython3",
   "version": "3.11.5"
  }
 },
 "nbformat": 4,
 "nbformat_minor": 5
}
