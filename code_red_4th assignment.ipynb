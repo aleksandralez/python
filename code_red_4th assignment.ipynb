{
 "cells": [
  {
   "cell_type": "markdown",
   "id": "62a85b5b",
   "metadata": {},
   "source": [
    "1. LEVEL_1_basic Write program that finds max 3 salaries from the list."
   ]
  },
  {
   "cell_type": "code",
   "execution_count": 62,
   "id": "97d3e3c4",
   "metadata": {},
   "outputs": [
    {
     "name": "stdout",
     "output_type": "stream",
     "text": [
      "[18000, 16400, 15100]\n"
     ]
    }
   ],
   "source": [
    "salaries = [10000, 12000, 7000, 8500, 11200, 9300, 15100, 18000, 16400, 11000]\n",
    "\n",
    "def max_three():\n",
    "    sorted_salaries = sorted(salaries, reverse = True)\n",
    "    print(sorted_salaries[0:3])\n",
    "max_three()"
   ]
  },
  {
   "cell_type": "markdown",
   "id": "2b68d6d9",
   "metadata": {},
   "source": [
    "2. LEVEL_1_basic Write program that finds salaries greater than mean salary from dictionary."
   ]
  },
  {
   "cell_type": "code",
   "execution_count": 63,
   "id": "8a3b29ec",
   "metadata": {},
   "outputs": [
    {
     "name": "stdout",
     "output_type": "stream",
     "text": [
      "Salaries greater than mean salary: 11850.0\n",
      "name: Beata - salary: 12000\n",
      "name: Piotr - salary: 15100\n",
      "name: Mateusz - salary: 18000\n",
      "name: Agata - salary: 16400\n"
     ]
    }
   ],
   "source": [
    "name_to_salary_dictionary = {\n",
    "    'Adam': 10000,\n",
    "    'Beata': 12000,\n",
    "    'Jarek': 7000,\n",
    "    'Agnieszka': 8500,\n",
    "    'Marek': 11200,\n",
    "    'Ania': 9300,\n",
    "    'Piotr': 15100,\n",
    "    'Mateusz': 18000,\n",
    "    'Agata': 16400,\n",
    "    'Marian': 11000\n",
    "}\n",
    "\n",
    "mean_salary = sum(name_to_salary_dictionary.values()) / len(name_to_salary_dictionary)\n",
    "salary_greater = {name: salary for name, salary in name_to_salary_dictionary.items() if salary > mean_salary}\n",
    "print(f\"Salaries greater than mean salary: {mean_salary}\")\n",
    "\n",
    "for name, salary in salary_greater.items():\n",
    "    print(f\"name: {name} - salary: {salary}\")"
   ]
  },
  {
   "cell_type": "markdown",
   "id": "257a6b57",
   "metadata": {},
   "source": [
    "3. LEVEL_1_basic Write program that filters employees from ‘Management’ department and counts them."
   ]
  },
  {
   "cell_type": "code",
   "execution_count": 64,
   "id": "632d2cd7",
   "metadata": {},
   "outputs": [
    {
     "name": "stdout",
     "output_type": "stream",
     "text": [
      "In department: Management working now 4 persons: ['Adam', 'Beata', 'Piotr', 'Agata']\n"
     ]
    }
   ],
   "source": [
    "employees = [\n",
    "{'Id': 1, 'Name': 'Adam', 'Department': 'Management', 'Salary': 10000},\n",
    "{'Id': 2, 'Name': 'Beata', 'Department': 'Management', 'Salary': 12000},\n",
    "{'Id': 3, 'Name': 'Jarek', 'Department': 'Kitchen', 'Salary': 7000},\n",
    "{'Id': 4, 'Name': 'Agnieszka', 'Department': 'House Floor', 'Salary': 8500},\n",
    "{'Id': 5, 'Name': 'Marek', 'Department': 'House Floor', 'Salary': 11200},\n",
    "{'Id': 6, 'Name': 'Ania', 'Department': 'Kitchen', 'Salary': 9300},\n",
    "{'Id': 7, 'Name': 'Piotr', 'Department': 'Management', 'Salary': 15100},\n",
    "{'Id': 8, 'Name': 'Mateusz', 'Department': 'Cashier', 'Salary': 18000},\n",
    "{'Id': 9, 'Name': 'Agata', 'Department': 'Management', 'Salary': 16400},\n",
    "{'Id': 10, 'Name': 'Marian', 'Department': 'Cashier', 'Salary': 11000},\n",
    "]\n",
    "\n",
    "management_employees = [employee['Name'] for employee in employees if employee['Department'] == 'Management']\n",
    "count_management_employees = len(management_employees)\n",
    "print(f\"In department: Management working now {count_management_employees} persons: {management_employees}\")"
   ]
  },
  {
   "cell_type": "markdown",
   "id": "fdf30420",
   "metadata": {},
   "source": [
    "4. LEVEL_2_medium Write program that maps employee id to first letter of name, technically means returns a dictionary, where:\n",
    "-  key - an employee's id,\n",
    "-  value - first letter of name"
   ]
  },
  {
   "cell_type": "code",
   "execution_count": 65,
   "id": "9321dc3a",
   "metadata": {},
   "outputs": [
    {
     "name": "stdout",
     "output_type": "stream",
     "text": [
      "[{1: 'A'}, {2: 'B'}, {3: 'J'}, {4: 'A'}, {5: 'M'}, {6: 'A'}, {7: 'P'}, {8: 'M'}, {9: 'A'}, {10: 'M'}]\n"
     ]
    }
   ],
   "source": [
    "id_letter = [{employee['Id']: employee['Name'][0]} for employee in employees]\n",
    "\n",
    "print(id_letter)"
   ]
  },
  {
   "cell_type": "markdown",
   "id": "eed65351",
   "metadata": {},
   "source": [
    "5. LEVEL_2_medium Write program that reads csv file and calculates compensation as: (employment_duration_in_years * 1000 zł) only when employment_duration_in_years is greater or equal 5."
   ]
  },
  {
   "cell_type": "code",
   "execution_count": 66,
   "id": "0178dc59",
   "metadata": {},
   "outputs": [
    {
     "name": "stdout",
     "output_type": "stream",
     "text": [
      "name: Beata - compensation: 5000\n",
      "name: Jarek - compensation: 5000\n",
      "name: Ania - compensation: 6000\n",
      "name: Mateusz - compensation: 6000\n",
      "name: Marian - compensation: 10000\n"
     ]
    }
   ],
   "source": [
    "import csv\n",
    "\n",
    "results = []\n",
    "\n",
    "\n",
    "with open(\"5_input.csv\") as file_5:\n",
    "    text = csv.DictReader(file_5)\n",
    "    for row in text:\n",
    "        duration = int(row['Duration of employment in years'])\n",
    "        if duration >= 5:\n",
    "            compensation = duration * 1000\n",
    "            results.append(f\"name: {row['Name']} - compensation: {compensation}\")\n",
    "\n",
    "for result in results:\n",
    "    print(result)"
   ]
  },
  {
   "cell_type": "markdown",
   "id": "78e9e027",
   "metadata": {},
   "source": [
    "6.* LEVEL_3_hard Write program the same program as in 5. but having date of employment instead of employment_duration_in_years."
   ]
  },
  {
   "cell_type": "code",
   "execution_count": 67,
   "id": "4a90689d",
   "metadata": {},
   "outputs": [
    {
     "name": "stdout",
     "output_type": "stream",
     "text": [
      "name: Beata - compensation: 5000\n",
      "name: Jarek - compensation: 5000\n",
      "name: Ania - compensation: 6000\n",
      "name: Mateusz - compensation: 6000\n",
      "name: Marian - compensation: 10000\n"
     ]
    }
   ],
   "source": [
    "import csv\n",
    "from datetime import datetime\n",
    "\n",
    "current_date = datetime.now()\n",
    "results = []\n",
    "\n",
    "with open(\"6_input.csv\") as file_6:\n",
    "    text = csv.DictReader(file_6)\n",
    "    for row in text:\n",
    "        employment_date = datetime.strptime(row['Date of employment'], '%Y-%m-%d')\n",
    "        duration_years = (current_date - employment_date).days / 365\n",
    "        if duration_years >= 5:\n",
    "            compensation = int(duration_years) * 1000\n",
    "            results.append(f\"name: {row['Name']} - compensation: {compensation}\")\n",
    "\n",
    "for result in results:\n",
    "    print(result)"
   ]
  },
  {
   "cell_type": "code",
   "execution_count": null,
   "id": "6f999615",
   "metadata": {},
   "outputs": [],
   "source": []
  },
  {
   "cell_type": "code",
   "execution_count": null,
   "id": "3b6cf316",
   "metadata": {},
   "outputs": [],
   "source": []
  }
 ],
 "metadata": {
  "kernelspec": {
   "display_name": "Python 3 (ipykernel)",
   "language": "python",
   "name": "python3"
  },
  "language_info": {
   "codemirror_mode": {
    "name": "ipython",
    "version": 3
   },
   "file_extension": ".py",
   "mimetype": "text/x-python",
   "name": "python",
   "nbconvert_exporter": "python",
   "pygments_lexer": "ipython3",
   "version": "3.11.5"
  }
 },
 "nbformat": 4,
 "nbformat_minor": 5
}
